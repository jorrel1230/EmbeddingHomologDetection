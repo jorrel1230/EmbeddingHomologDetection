{
 "cells": [
  {
   "cell_type": "code",
   "execution_count": 1,
   "metadata": {},
   "outputs": [],
   "source": [
    "import numpy as np\n",
    "import faiss\n",
    "import pandas as pd"
   ]
  },
  {
   "cell_type": "code",
   "execution_count": 3,
   "metadata": {},
   "outputs": [
    {
     "name": "stdout",
     "output_type": "stream",
     "text": [
      "(28105, 1280)\n",
      "(7027, 1280)\n",
      "(28105,)\n",
      "(7027,)\n"
     ]
    }
   ],
   "source": [
    "# Fetching Data from Storages\n",
    "def fetch_train_test_split():\n",
    "    data_dir = '/scratch/gpfs/jr8867/embeddings/scop/train-test-split'\n",
    "\n",
    "    train_embeddings = np.load(f'{data_dir}/train_embeddings.npy')\n",
    "    test_embeddings = np.load(f'{data_dir}/test_embeddings.npy')\n",
    "    train_labels = np.load(f'{data_dir}/train_labels.npy')\n",
    "    test_labels = np.load(f'{data_dir}/test_labels.npy')\n",
    "\n",
    "    return train_embeddings, test_embeddings, train_labels, test_labels\n",
    "\n",
    "train_embeddings, test_embeddings, train_labels, test_labels = fetch_train_test_split()\n",
    "print(train_embeddings.shape)\n",
    "print(test_embeddings.shape)\n",
    "print(train_labels.shape)\n",
    "print(test_labels.shape)\n"
   ]
  },
  {
   "cell_type": "code",
   "execution_count": 4,
   "metadata": {},
   "outputs": [],
   "source": [
    "def create_faiss_index(embeddings, labels, type='train'):\n",
    "    # Create a flat index with inner product metric (equivalent to cosine similarity for normalized vectors)\n",
    "    d = embeddings.shape[1]  # dimension of embeddings\n",
    "    index = faiss.IndexFlatIP(d)\n",
    "    \n",
    "    # Add embeddings to the index\n",
    "    index.add(embeddings)\n",
    "    \n",
    "    # Create metadata DataFrame mapping index to labels\n",
    "    metadata = pd.DataFrame({\n",
    "        'index_id': range(len(labels)),\n",
    "        'label': labels\n",
    "    })\n",
    "    \n",
    "    # Save index and metadata\n",
    "    output_dir = '/scratch/gpfs/jr8867/embeddings/scop/train-test-split'\n",
    "    faiss.write_index(index, f'{output_dir}/protein_embeddings_{type}.index')\n",
    "    metadata.to_csv(f'{output_dir}/protein_embeddings_{type}_metadata.csv', index=False)\n",
    "    \n",
    "    return index, metadata"
   ]
  },
  {
   "cell_type": "code",
   "execution_count": 5,
   "metadata": {},
   "outputs": [],
   "source": [
    "train_index, train_metadata = create_faiss_index(train_embeddings, train_labels, type='train')\n",
    "test_index, test_metadata = create_faiss_index(test_embeddings, test_labels, type='test')"
   ]
  },
  {
   "cell_type": "code",
   "execution_count": 8,
   "metadata": {},
   "outputs": [
    {
     "name": "stdout",
     "output_type": "stream",
     "text": [
      "Distances: [0.9788125  0.97758263 0.97731286 0.97641706 0.97627425]\n",
      "Returned Indices: [25994  1178 27292  1154 26674]\n",
      "Returned Labels: [ 285 1023 1023   97  285]\n"
     ]
    }
   ],
   "source": [
    "# Test querying train index and check labels of returned neighbors\n",
    "def test_faiss_query(query_embedding, train_index, train_metadata, k=5):\n",
    "    # Reshape query embedding to match FAISS input requirements\n",
    "    query_emb = query_embedding.reshape(1, -1)\n",
    "    \n",
    "    # Perform similarity search\n",
    "    D, I = train_index.search(query_emb, k)\n",
    "    \n",
    "    # Retrieve labels for the returned indices\n",
    "    returned_labels = train_metadata.loc[I[0], 'label'].values\n",
    "    \n",
    "    print(\"Distances:\", D[0])\n",
    "    print(\"Returned Indices:\", I[0])\n",
    "    print(\"Returned Labels:\", returned_labels)\n",
    "    \n",
    "    return D[0], I[0], returned_labels\n",
    "\n",
    "# Example: Query with the first test embedding\n",
    "test_query_embedding = test_embeddings[0]\n",
    "_, _, _ = test_faiss_query(test_query_embedding, train_index, train_metadata)\n"
   ]
  }
 ],
 "metadata": {
  "kernelspec": {
   "display_name": "Python 3 (ipykernel)",
   "language": "python",
   "name": "python3"
  }
 },
 "nbformat": 4,
 "nbformat_minor": 2
}
