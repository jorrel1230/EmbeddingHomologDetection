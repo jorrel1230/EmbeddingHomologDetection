{
 "cells": [
  {
   "cell_type": "code",
   "execution_count": 1,
   "metadata": {},
   "outputs": [],
   "source": [
    "import pandas as pd\n",
    "import numpy as np\n",
    "from sklearn.model_selection import train_test_split\n",
    "from sklearn.preprocessing import LabelEncoder"
   ]
  },
  {
   "cell_type": "markdown",
   "metadata": {},
   "source": [
    "# Loading Data w/ Pandas"
   ]
  },
  {
   "cell_type": "code",
   "execution_count": 2,
   "metadata": {},
   "outputs": [
    {
     "data": {
      "text/html": [
       "<div>\n",
       "<style scoped>\n",
       "    .dataframe tbody tr th:only-of-type {\n",
       "        vertical-align: middle;\n",
       "    }\n",
       "\n",
       "    .dataframe tbody tr th {\n",
       "        vertical-align: top;\n",
       "    }\n",
       "\n",
       "    .dataframe thead th {\n",
       "        text-align: right;\n",
       "    }\n",
       "</style>\n",
       "<table border=\"1\" class=\"dataframe\">\n",
       "  <thead>\n",
       "    <tr style=\"text-align: right;\">\n",
       "      <th></th>\n",
       "      <th>index</th>\n",
       "      <th>uid</th>\n",
       "      <th>fa</th>\n",
       "      <th>sf</th>\n",
       "      <th>fold</th>\n",
       "      <th>seq</th>\n",
       "    </tr>\n",
       "  </thead>\n",
       "  <tbody>\n",
       "    <tr>\n",
       "      <th>0</th>\n",
       "      <td>0</td>\n",
       "      <td>Q03131</td>\n",
       "      <td>4000119</td>\n",
       "      <td>3000038</td>\n",
       "      <td>2000148</td>\n",
       "      <td>MSGPRSRTTSRRTPVRIGAVVVASSTSELLDGLAAVADGRPHASVV...</td>\n",
       "    </tr>\n",
       "    <tr>\n",
       "      <th>1</th>\n",
       "      <td>1</td>\n",
       "      <td>P09147</td>\n",
       "      <td>4000088</td>\n",
       "      <td>3000038</td>\n",
       "      <td>2000148</td>\n",
       "      <td>MRVLVTGGSGYIGSHTCVQLLQNGHDVIILDNLCNSKRSVLPVIER...</td>\n",
       "    </tr>\n",
       "    <tr>\n",
       "      <th>2</th>\n",
       "      <td>2</td>\n",
       "      <td>P61889</td>\n",
       "      <td>4000045</td>\n",
       "      <td>3000039</td>\n",
       "      <td>2000005</td>\n",
       "      <td>MKVAVLGAAGGIGQALALLLKTQLPSGSELSLYDIAPVTPGVAVDL...</td>\n",
       "    </tr>\n",
       "    <tr>\n",
       "      <th>3</th>\n",
       "      <td>3</td>\n",
       "      <td>P00334</td>\n",
       "      <td>4000029</td>\n",
       "      <td>3000038</td>\n",
       "      <td>2000148</td>\n",
       "      <td>MSFTLTNKNVIFVAGLGGIGLDTSKELLKRDLKNLVILDRIENPAA...</td>\n",
       "    </tr>\n",
       "    <tr>\n",
       "      <th>4</th>\n",
       "      <td>4</td>\n",
       "      <td>O33830</td>\n",
       "      <td>4000089</td>\n",
       "      <td>3000039</td>\n",
       "      <td>2000005</td>\n",
       "      <td>MPSVKIGIIGAGSAVFSLRLVSDLCKTPGLSGSTVTLMDIDEERLD...</td>\n",
       "    </tr>\n",
       "    <tr>\n",
       "      <th>...</th>\n",
       "      <td>...</td>\n",
       "      <td>...</td>\n",
       "      <td>...</td>\n",
       "      <td>...</td>\n",
       "      <td>...</td>\n",
       "      <td>...</td>\n",
       "    </tr>\n",
       "    <tr>\n",
       "      <th>35972</th>\n",
       "      <td>35972</td>\n",
       "      <td>P20585</td>\n",
       "      <td>4004015</td>\n",
       "      <td>3000587</td>\n",
       "      <td>2001251</td>\n",
       "      <td>MSRRKPASGGLAASSSAPARQAVLSRFFQSTGSLKSTSSSTGAADQ...</td>\n",
       "    </tr>\n",
       "    <tr>\n",
       "      <th>35973</th>\n",
       "      <td>35973</td>\n",
       "      <td>P20585</td>\n",
       "      <td>4004015</td>\n",
       "      <td>3002020</td>\n",
       "      <td>2001251</td>\n",
       "      <td>MSRRKPASGGLAASSSAPARQAVLSRFFQSTGSLKSTSSSTGAADQ...</td>\n",
       "    </tr>\n",
       "    <tr>\n",
       "      <th>35974</th>\n",
       "      <td>35974</td>\n",
       "      <td>P52701</td>\n",
       "      <td>4004015</td>\n",
       "      <td>3001688</td>\n",
       "      <td>2001251</td>\n",
       "      <td>MSRQSTLYSFFPKSPALSDANKASARASREGGRAAAAPGASPSPGG...</td>\n",
       "    </tr>\n",
       "    <tr>\n",
       "      <th>35975</th>\n",
       "      <td>35975</td>\n",
       "      <td>P52701</td>\n",
       "      <td>4004015</td>\n",
       "      <td>3000587</td>\n",
       "      <td>2001251</td>\n",
       "      <td>MSRQSTLYSFFPKSPALSDANKASARASREGGRAAAAPGASPSPGG...</td>\n",
       "    </tr>\n",
       "    <tr>\n",
       "      <th>35976</th>\n",
       "      <td>35976</td>\n",
       "      <td>P52701</td>\n",
       "      <td>4004015</td>\n",
       "      <td>3002020</td>\n",
       "      <td>2001251</td>\n",
       "      <td>MSRQSTLYSFFPKSPALSDANKASARASREGGRAAAAPGASPSPGG...</td>\n",
       "    </tr>\n",
       "  </tbody>\n",
       "</table>\n",
       "<p>35977 rows × 6 columns</p>\n",
       "</div>"
      ],
      "text/plain": [
       "       index     uid       fa       sf     fold  \\\n",
       "0          0  Q03131  4000119  3000038  2000148   \n",
       "1          1  P09147  4000088  3000038  2000148   \n",
       "2          2  P61889  4000045  3000039  2000005   \n",
       "3          3  P00334  4000029  3000038  2000148   \n",
       "4          4  O33830  4000089  3000039  2000005   \n",
       "...      ...     ...      ...      ...      ...   \n",
       "35972  35972  P20585  4004015  3000587  2001251   \n",
       "35973  35973  P20585  4004015  3002020  2001251   \n",
       "35974  35974  P52701  4004015  3001688  2001251   \n",
       "35975  35975  P52701  4004015  3000587  2001251   \n",
       "35976  35976  P52701  4004015  3002020  2001251   \n",
       "\n",
       "                                                     seq  \n",
       "0      MSGPRSRTTSRRTPVRIGAVVVASSTSELLDGLAAVADGRPHASVV...  \n",
       "1      MRVLVTGGSGYIGSHTCVQLLQNGHDVIILDNLCNSKRSVLPVIER...  \n",
       "2      MKVAVLGAAGGIGQALALLLKTQLPSGSELSLYDIAPVTPGVAVDL...  \n",
       "3      MSFTLTNKNVIFVAGLGGIGLDTSKELLKRDLKNLVILDRIENPAA...  \n",
       "4      MPSVKIGIIGAGSAVFSLRLVSDLCKTPGLSGSTVTLMDIDEERLD...  \n",
       "...                                                  ...  \n",
       "35972  MSRRKPASGGLAASSSAPARQAVLSRFFQSTGSLKSTSSSTGAADQ...  \n",
       "35973  MSRRKPASGGLAASSSAPARQAVLSRFFQSTGSLKSTSSSTGAADQ...  \n",
       "35974  MSRQSTLYSFFPKSPALSDANKASARASREGGRAAAAPGASPSPGG...  \n",
       "35975  MSRQSTLYSFFPKSPALSDANKASARASREGGRAAAAPGASPSPGG...  \n",
       "35976  MSRQSTLYSFFPKSPALSDANKASARASREGGRAAAAPGASPSPGG...  \n",
       "\n",
       "[35977 rows x 6 columns]"
      ]
     },
     "execution_count": 2,
     "metadata": {},
     "output_type": "execute_result"
    }
   ],
   "source": [
    "scop_df = pd.read_csv(\"/scratch/gpfs/jr8867/main/db/scop_data_fold.csv\")\n",
    "scop_df"
   ]
  },
  {
   "cell_type": "code",
   "execution_count": 5,
   "metadata": {},
   "outputs": [
    {
     "name": "stdout",
     "output_type": "stream",
     "text": [
      "[2000148 2000148 2001251]\n",
      "[3000038 3000038 3002020]\n",
      "[4000119 4000088 4004015]\n"
     ]
    }
   ],
   "source": [
    "def get_folds(indicies):\n",
    "    return np.array([scop_df.loc[scop_df['index'] == i, 'fold'].values[0] for i in indicies])\n",
    "\n",
    "def get_superfamilies(indicies):\n",
    "    return np.array([scop_df.loc[scop_df['index'] == i, 'sf'].values[0] for i in indicies])\n",
    "\n",
    "def get_families(indicies):\n",
    "    return np.array([scop_df.loc[scop_df['index'] == i, 'fa'].values[0] for i in indicies])\n",
    "\n",
    "print(get_folds([0, 1, 35976]))\n",
    "print(get_superfamilies([0, 1, 35976]))\n",
    "print(get_families([0, 1, 35976]))"
   ]
  },
  {
   "cell_type": "markdown",
   "metadata": {},
   "source": [
    "# Loading Embeddings with Numpy"
   ]
  },
  {
   "cell_type": "code",
   "execution_count": 6,
   "metadata": {},
   "outputs": [
    {
     "name": "stdout",
     "output_type": "stream",
     "text": [
      "(35977, 1280)\n",
      "(35977,)\n"
     ]
    }
   ],
   "source": [
    "embeddings = np.load(\"/scratch/gpfs/jr8867/main/db/full/embeddings.npy\")\n",
    "indicies = np.load(\"/scratch/gpfs/jr8867/main/db/full/indicies.npy\")\n",
    "\n",
    "print(embeddings.shape) # Each embedding is 1280 dim\n",
    "print(indicies.shape)"
   ]
  },
  {
   "cell_type": "markdown",
   "metadata": {},
   "source": [
    "# Construct Dataset\n",
    "\n",
    "X: Embeddings\n",
    "\n",
    "y: Sequence Index"
   ]
  },
  {
   "cell_type": "code",
   "execution_count": 7,
   "metadata": {},
   "outputs": [
    {
     "name": "stdout",
     "output_type": "stream",
     "text": [
      "Extracting superfamily information for stratification...\n",
      "Filtering indices with at least 2 samples...\n",
      "Filtered embeddings shape: (35571, 1280)\n",
      "Filtered indicies shape: (35571,)\n"
     ]
    }
   ],
   "source": [
    "# Get superfamily information\n",
    "print(\"Extracting superfamily information for stratification...\")\n",
    "superfamilies = np.array([scop_df.loc[scop_df['index'] == i, 'fold'].values[0] for i in indicies])\n",
    "\n",
    "# Encode labels\n",
    "label_encoder = LabelEncoder()\n",
    "labels = label_encoder.fit_transform(superfamilies)\n",
    "\n",
    "# Filter indices with at least 2 samples for stratification\n",
    "print(\"Filtering indices with at least 2 samples...\")\n",
    "unique, counts = np.unique(labels, return_counts=True)\n",
    "valid_labels = unique[counts > 1]\n",
    "mask = np.isin(labels, valid_labels)\n",
    "embeddings = embeddings[mask]\n",
    "indicies = indicies[mask]\n",
    "labels = labels[mask]  # Ensure labels are also filtered\n",
    "print(f\"Filtered embeddings shape: {embeddings.shape}\")\n",
    "print(f\"Filtered indicies shape: {indicies.shape}\")\n",
    "\n",
    "# Use filtered labels for stratification\n",
    "train_embeddings, test_embeddings, train_indicies, test_indicies = train_test_split(\n",
    "    embeddings, indicies, test_size=0.25, stratify=labels\n",
    ")\n",
    "\n",
    "train_superfamilies = get_superfamilies(train_indicies)\n",
    "test_superfamilies = get_superfamilies(test_indicies)\n",
    "train_families = get_families(train_indicies)\n",
    "test_families = get_families(test_indicies)\n",
    "train_folds = get_folds(train_indicies)\n",
    "test_folds = get_folds(test_indicies)\n"
   ]
  },
  {
   "cell_type": "code",
   "execution_count": 9,
   "metadata": {},
   "outputs": [
    {
     "name": "stdout",
     "output_type": "stream",
     "text": [
      "Train embeddings shape: (26678, 1280)\n",
      "Train indices shape: (26678,)\n",
      "Train superfamilies shape: (26678,)\n",
      "Train families shape: (26678,)\n",
      "Test embeddings shape: (8893, 1280)\n",
      "Test indices shape: (8893,)\n",
      "Test superfamilies shape: (8893,)\n",
      "Test families shape: (8893,)\n",
      "Train folds shape: (26678,)\n",
      "Test folds shape: (8893,)\n"
     ]
    }
   ],
   "source": [
    "print(\"Train embeddings shape:\", train_embeddings.shape)\n",
    "print(\"Train indices shape:\", train_indicies.shape)\n",
    "print(\"Train superfamilies shape:\", train_superfamilies.shape)\n",
    "print(\"Train families shape:\", train_families.shape)\n",
    "print(\"Test embeddings shape:\", test_embeddings.shape)\n",
    "print(\"Test indices shape:\", test_indicies.shape)\n",
    "print(\"Test superfamilies shape:\", test_superfamilies.shape)\n",
    "print(\"Test families shape:\", test_families.shape)\n",
    "print(\"Train folds shape:\", train_folds.shape)\n",
    "print(\"Test folds shape:\", test_folds.shape)"
   ]
  },
  {
   "cell_type": "code",
   "execution_count": 10,
   "metadata": {},
   "outputs": [
    {
     "ename": "",
     "evalue": "",
     "output_type": "error",
     "traceback": [
      "\u001b[1;31mThe Kernel crashed while executing code in the current cell or a previous cell. \n",
      "\u001b[1;31mPlease review the code in the cell(s) to identify a possible cause of the failure. \n",
      "\u001b[1;31mClick <a href='https://aka.ms/vscodeJupyterKernelCrash'>here</a> for more info. \n",
      "\u001b[1;31mView Jupyter <a href='command:jupyter.viewOutput'>log</a> for further details."
     ]
    }
   ],
   "source": [
    "np.save(\"/scratch/gpfs/jr8867/main/db/train-test-fold/train_embeddings.npy\", train_embeddings)\n",
    "np.save(\"/scratch/gpfs/jr8867/main/db/train-test-fold/test_embeddings.npy\", test_embeddings)\n",
    "np.save(\"/scratch/gpfs/jr8867/main/db/train-test-fold/train_indicies.npy\", train_indicies)\n",
    "np.save(\"/scratch/gpfs/jr8867/main/db/train-test-fold/test_indicies.npy\", test_indicies)\n",
    "np.save(\"/scratch/gpfs/jr8867/main/db/train-test-fold/train_superfamilies.npy\", train_superfamilies)\n",
    "np.save(\"/scratch/gpfs/jr8867/main/db/train-test-fold/test_superfamilies.npy\", test_superfamilies)\n",
    "np.save(\"/scratch/gpfs/jr8867/main/db/train-test-fold/train_families.npy\", train_families)\n",
    "np.save(\"/scratch/gpfs/jr8867/main/db/train-test-fold/test_families.npy\", test_families)\n",
    "np.save(\"/scratch/gpfs/jr8867/main/db/train-test-fold/train_folds.npy\", train_folds)\n",
    "np.save(\"/scratch/gpfs/jr8867/main/db/train-test-fold/test_folds.npy\", test_folds)\n"
   ]
  }
 ],
 "metadata": {
  "kernelspec": {
   "display_name": "Python 3",
   "language": "python",
   "name": "python3"
  },
  "language_info": {
   "codemirror_mode": {
    "name": "ipython",
    "version": 3
   },
   "file_extension": ".py",
   "mimetype": "text/x-python",
   "name": "python",
   "nbconvert_exporter": "python",
   "pygments_lexer": "ipython3",
   "version": "3.12.9"
  }
 },
 "nbformat": 4,
 "nbformat_minor": 2
}
